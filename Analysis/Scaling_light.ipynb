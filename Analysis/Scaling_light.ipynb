{
 "cells": [
  {
   "cell_type": "code",
   "execution_count": 1,
   "metadata": {},
   "outputs": [],
   "source": [
    "import yaml\n",
    "import numpy as np\n",
    "import matplotlib.pyplot as plt\n",
    "from os import listdir"
   ]
  },
  {
   "cell_type": "code",
   "execution_count": null,
   "metadata": {},
   "outputs": [],
   "source": [
    "# Fit folder\n",
    "FitFolders = [\"/Users/s2569857/Codes/NTK-interface/build/run/Results/test\",]"
   ]
  },
  {
   "cell_type": "code",
   "execution_count": 12,
   "metadata": {},
   "outputs": [],
   "source": [
    "from abc import ABC, abstractmethod\n",
    "\n",
    "_data_sample_size = 4\n",
    "\n",
    "class Observable(ABC):\n",
    "\n",
    "    def __init__(self, FitFolder, shape, observable_name):\n",
    "        self.FitFolder = FitFolder\n",
    "        self.number_of_replicas = len(listdir(FitFolder + \"/log/\"))\n",
    "        self.shape = shape\n",
    "        self.observable_name = observable_name\n",
    "\n",
    "        with open(FitFolder + \"/meta.yaml\", \"r\") as meta:\n",
    "            Meta = yaml.load(meta, Loader=yaml.CLoader)\n",
    "\n",
    "        Meta[\"data_sample_size\"] = _data_sample_size\n",
    "\n",
    "        self.size_of_data = Meta[\"data_sample_size\"]\n",
    "        self.size_of_output = Meta['NNarchitecture'][-1]\n",
    "        self.size_of_NN = Meta[\"NNarchitecture\"][1]\n",
    "\n",
    "    def load_observable(self, replica, tr_step):\n",
    "        with open(self.FitFolder + \"/log/replica_\" + str(replica) + \".yaml\", \"r\") as rep:\n",
    "            Rep = yaml.load(rep, Loader=yaml.CLoader)\n",
    "        out = np.ndarray(shape=self.shape, dtype=float, order = 'C', buffer=np.array(Rep[tr_step][self.observable_name]))\n",
    "        return out\n",
    "    \n",
    "    def evaluate(self, replica, tr_step):\n",
    "        return self.load_observable(replica, tr_step)\n",
    "        \n",
    "    def average_over_replicas(self, tr_step):\n",
    "\n",
    "        shape = self.shape\n",
    "        obs = np.zeros(shape, dtype=float)\n",
    "        observable_by_replica = np.array([self.evaluate(frep, tr_step) for frep in range(1, self.number_of_replicas)])\n",
    "        obs = np.average(observable_by_replica, axis = 0)\n",
    "        std = np.std(observable_by_replica, axis = 0)\n",
    "\n",
    "        return obs, std, observable_by_replica"
   ]
  },
  {
   "cell_type": "code",
   "execution_count": 13,
   "metadata": {},
   "outputs": [],
   "source": [
    "class NTK_element_wise(Observable):\n",
    "    def __init__ (self, FitFolder, shape, observable_name):\n",
    "        super().__init__(FitFolder, shape, observable_name)\n",
    "\n",
    "class NTK_frob(Observable):\n",
    "    def __init__ (self, FitFolder, shape, observable_name):\n",
    "        super().__init__(FitFolder, shape, observable_name)\n",
    "    \n",
    "    def evaluate(self, replica, tr_step):\n",
    "        return np.linalg.norm(self.load_observable(replica, tr_step))\n",
    "    \n",
    "class O3(Observable):\n",
    "    def __init__ (self, FitFolder, shape, observable_name):\n",
    "        super().__init__(FitFolder, shape, observable_name)"
   ]
  },
  {
   "cell_type": "markdown",
   "metadata": {},
   "source": [
    "## Loop over FitFolders and plot a grapgh as function of the size of the network\n",
    "The plots are generated at initialisation"
   ]
  },
  {
   "cell_type": "code",
   "execution_count": null,
   "metadata": {},
   "outputs": [],
   "source": [
    "labels = np.zeros(len(FitFolders))\n",
    "ntk_mean_values = np.zeros(len(FitFolders))\n",
    "ntk_std_values = np.zeros(len(FitFolders))\n",
    "O3_mean_values = np.zeros(len(FitFolders))\n",
    "O3_std_values = np.zeros(len(FitFolders))\n",
    "\n",
    "for i, fit in enumerate(FitFolders):\n",
    "    \n",
    "\n",
    "    # TO_DO\n",
    "    # _data_sample_size is hardcoded and not really recommended. Try to\n",
    "    # to make it more general\n",
    "    ntk_frob = NTK_frob(fit, shape=(_data_sample_size, _data_sample_size), observable_name=\"NTK_eigen\")\n",
    "    o3 = O3(fit, shape=(_data_sample_size, _data_sample_size, _data_sample_size), observable_name=\"O_3\")\n",
    "    ntk_frob_mean, ntk_frob_std = ntk_frob.average_over_replicas(0)\n",
    "    o3_mean, o3_std = o3.average_over_replicas(0)\n",
    "\n",
    "    # Choose a particular data combination for O_3\n",
    "    o3_mean_data = o3_mean[0,1,2]\n",
    "    o3_std = o3_std[0,1,2]\n",
    "\n"
   ]
  },
  {
   "cell_type": "code",
   "execution_count": 14,
   "metadata": {},
   "outputs": [],
   "source": [
    "ntk = NTK_element_wise(FitFolders[0], shape=(_data_sample_size, _data_sample_size), observable_name=\"NTK_eigen\")\n",
    "\n",
    "\n"
   ]
  },
  {
   "cell_type": "code",
   "execution_count": 30,
   "metadata": {},
   "outputs": [],
   "source": [
    "obs_mean, _, obs_vec = o3.average_over_replicas(0)"
   ]
  },
  {
   "cell_type": "code",
   "execution_count": null,
   "metadata": {},
   "outputs": [],
   "source": []
  }
 ],
 "metadata": {
  "kernelspec": {
   "display_name": "nnpdf",
   "language": "python",
   "name": "python3"
  },
  "language_info": {
   "codemirror_mode": {
    "name": "ipython",
    "version": 3
   },
   "file_extension": ".py",
   "mimetype": "text/x-python",
   "name": "python",
   "nbconvert_exporter": "python",
   "pygments_lexer": "ipython3",
   "version": "3.11.0"
  }
 },
 "nbformat": 4,
 "nbformat_minor": 2
}
