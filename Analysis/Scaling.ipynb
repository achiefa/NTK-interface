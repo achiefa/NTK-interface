{
 "cells": [
  {
   "cell_type": "code",
   "execution_count": 1,
   "metadata": {},
   "outputs": [],
   "source": [
    "import yaml\n",
    "import numpy as np\n",
    "import matplotlib.pyplot as plt\n",
    "from os import listdir\n",
    "\n",
    "# Fit folder\n",
    "FitFolders = [\"/Users/s2569857/Codes/NTK-interface/build/run/Results/test\",]"
   ]
  },
  {
   "cell_type": "code",
   "execution_count": null,
   "metadata": {},
   "outputs": [],
   "source": [
    "def NTK_frob (FitFolder):\n",
    "    with open(FitFolder + \"/meta.yaml\", \"r\") as meta:\n",
    "        Meta = yaml.load(meta, Loader=yaml.CLoader)\n",
    "        nsteps = Meta[\"max_num_iterations\"]\n",
    "\n",
    "    step_size_to_store = 10\n",
    "    NTK_frob_norms = np.zeros(int(nsteps /step_size_to_store))\n",
    "    NTK_frob_norms_std = np.zeros(int(nsteps /step_size_to_store))\n",
    "    time = np.array([t for t in range(1, nsteps, step_size_to_store)])\n",
    "    nrep = 0\n",
    "\n",
    "    for frep in [f.replace(\".yaml\", \"\") for f in sorted(listdir(FitFolder + \"/log/\"),  key=lambda s: int(s[s.find(\"_\")+1:s.find(\".\")]))]:\n",
    "        with open(FitFolder + \"/log/\" + frep + \".yaml\", \"r\") as rep:\n",
    "            Rep = yaml.load(rep, Loader=yaml.CLoader)\n",
    "            for k,t in enumerate(range(1, nsteps, step_size_to_store)):\n",
    "                NTK_frob_norms[k] += np.linalg.norm(Rep[t][\"NTK\"])\n",
    "                NTK_frob_norms_std[k] += np.power(np.linalg.norm(Rep[t][\"NTK\"]), 2)\n",
    "                \n",
    "        nrep += 1\n",
    "\n",
    "    NTK_frob_norms /= nrep\n",
    "    NTK_frob_norms_std /= nrep\n",
    "    NTK_frob_norms_std -= np.power(NTK_frob_norms, 2)\n",
    "\n",
    "    return NTK_frob_norms, NTK_frob_norms_std"
   ]
  },
  {
   "cell_type": "code",
   "execution_count": 66,
   "metadata": {},
   "outputs": [],
   "source": [
    "def first_derivative (FitFolder, tr_step, rep):\n",
    "    with open(FitFolder + \"/meta.yaml\", \"r\") as meta:\n",
    "        Meta = yaml.load(meta, Loader=yaml.CLoader)\n",
    "        nsteps = Meta[\"max_num_iterations\"]\n",
    "    \n",
    "    if tr_step > nsteps:\n",
    "        raise Exception(f\"The chosen time-step is too high. The maximum number of steps is {nsteps}\")\n",
    "\n",
    "    with open(FitFolder + \"/log/replica_\" + str(rep) + \".yaml\", \"r\") as rep:\n",
    "        Rep = yaml.load(rep, Loader=yaml.CLoader)\n",
    "\n",
    "    size_of_data = len(Rep[tr_step]['dNN'].keys())\n",
    "    size_of_output = Meta['NNarchitecture'][-1]\n",
    "    number_of_derivatives = len(list(Rep[tr_step]['dNN'].values())[0]) - size_of_output\n",
    "    derivative_tensor = np.ndarray((size_of_data, size_of_output, number_of_derivatives), dtype=float)     \n",
    "\n",
    "    for id in range(size_of_data):\n",
    "        for io in range(size_of_output):\n",
    "            for ip in range(1, number_of_derivatives+1):\n",
    "                derivative_tensor[id][io][ip-1] = list(Rep[tr_step]['dNN'].values())[id][io + ip * size_of_output]\n",
    "\n",
    "    return derivative_tensor\n",
    "\n",
    "\n",
    "def second_derivative (FitFolder, tr_step, rep):\n",
    "    with open(FitFolder + \"/meta.yaml\", \"r\") as meta:\n",
    "        Meta = yaml.load(meta, Loader=yaml.CLoader)\n",
    "        nsteps = Meta[\"max_num_iterations\"]\n",
    "    \n",
    "    if tr_step > nsteps:\n",
    "        raise Exception(f\"The chosen time-step is too high. The maximum number of steps is {nsteps}\")\n",
    "\n",
    "    with open(FitFolder + \"/log/replica_\" + str(rep) + \".yaml\", \"r\") as rep:\n",
    "        Rep = yaml.load(rep, Loader=yaml.CLoader)\n",
    "\n",
    "    size_of_data = len(Rep[tr_step]['dNN'].keys())\n",
    "    size_of_output = Meta['NNarchitecture'][-1]\n",
    "    number_of_derivatives = len(list(Rep[tr_step]['dNN'].values())[0]) - size_of_output\n",
    "    derivative_tensor = np.ndarray((size_of_data, size_of_output, number_of_derivatives, number_of_derivatives), dtype=float)     \n",
    "\n",
    "    for id in range(size_of_data):\n",
    "        for io in range(size_of_output):\n",
    "            for ip1 in range(number_of_derivatives):\n",
    "                for ip2 in range(1, number_of_derivatives+1):\n",
    "                    derivative_tensor[id][io][ip1][ip2-1] = list(Rep[tr_step]['ddNN'].values())[id][ip1][io + ip2 * size_of_output]\n",
    "\n",
    "    return derivative_tensor"
   ]
  },
  {
   "cell_type": "code",
   "execution_count": 67,
   "metadata": {},
   "outputs": [],
   "source": [
    "df = first_derivative(FitFolders[0],0,0)\n",
    "ddf = second_derivative(FitFolders[0],0,0)"
   ]
  },
  {
   "cell_type": "code",
   "execution_count": 75,
   "metadata": {},
   "outputs": [
    {
     "data": {
      "text/plain": [
       "(1, 16)"
      ]
     },
     "execution_count": 75,
     "metadata": {},
     "output_type": "execute_result"
    }
   ],
   "source": [
    "df[0].shape"
   ]
  },
  {
   "cell_type": "code",
   "execution_count": 74,
   "metadata": {},
   "outputs": [
    {
     "data": {
      "text/plain": [
       "(1, 16, 16)"
      ]
     },
     "execution_count": 74,
     "metadata": {},
     "output_type": "execute_result"
    }
   ],
   "source": [
    "ddf[1].shape"
   ]
  },
  {
   "cell_type": "code",
   "execution_count": 77,
   "metadata": {},
   "outputs": [],
   "source": [
    "c = np.tensordot(df[0], ddf[1], axes=([1],[2]))"
   ]
  }
 ],
 "metadata": {
  "kernelspec": {
   "display_name": "nnpdf",
   "language": "python",
   "name": "python3"
  },
  "language_info": {
   "codemirror_mode": {
    "name": "ipython",
    "version": 3
   },
   "file_extension": ".py",
   "mimetype": "text/x-python",
   "name": "python",
   "nbconvert_exporter": "python",
   "pygments_lexer": "ipython3",
   "version": "3.11.0"
  }
 },
 "nbformat": 4,
 "nbformat_minor": 2
}
